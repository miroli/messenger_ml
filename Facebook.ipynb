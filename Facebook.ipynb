{
 "cells": [
  {
   "cell_type": "markdown",
   "metadata": {},
   "source": [
    "# Predicting FB messenger users"
   ]
  },
  {
   "cell_type": "code",
   "execution_count": null,
   "metadata": {},
   "outputs": [],
   "source": [
    "import pandas as pd\n",
    "import numpy as np\n",
    "from bs4 import BeautifulSoup\n",
    "from sklearn.metrics import accuracy_score\n",
    "from sklearn.naive_bayes import MultinomialNB\n",
    "from sklearn.cross_validation import train_test_split\n",
    "from sklearn.feature_extraction.text import CountVectorizer"
   ]
  },
  {
   "cell_type": "markdown",
   "metadata": {},
   "source": [
    "## Load and parse messages"
   ]
  },
  {
   "cell_type": "code",
   "execution_count": null,
   "metadata": {},
   "outputs": [],
   "source": [
    "# Replace with the path to messages.htm from the FB dump\n",
    "HTML_PATH = '/path/to/messages.htm'\n",
    "\n",
    "with open(HTML_PATH) as f:\n",
    "    soup = BeautifulSoup(f.read(), 'html5lib')"
   ]
  },
  {
   "cell_type": "code",
   "execution_count": null,
   "metadata": {},
   "outputs": [],
   "source": [
    "# Create a dict from every message\n",
    "# and group them all into threads\n",
    "threads = soup.select('.thread')\n",
    "thread_list = []\n",
    "for thread in threads:\n",
    "    msg_list = []\n",
    "    for message in thread.select('div.message'):\n",
    "        item = {}\n",
    "        item['user'] = message.select_one('span.user').text\n",
    "        item['timestamp'] = message.select_one('span.meta').text\n",
    "        item['content'] = message.next_sibling.text\n",
    "        msg_list.append(item)\n",
    "    thread_list.append(msg_list)"
   ]
  },
  {
   "cell_type": "code",
   "execution_count": null,
   "metadata": {},
   "outputs": [],
   "source": [
    "# Append thread id\n",
    "thread_ids = []\n",
    "for thread in threads:\n",
    "    first_msg = thread.select_one('div.message')\n",
    "    thread_ids.append(str(first_msg.previous_sibling))"
   ]
  },
  {
   "cell_type": "code",
   "execution_count": null,
   "metadata": {},
   "outputs": [],
   "source": [
    "# Merge everything into a single dataframe\n",
    "dfs = []\n",
    "for idx, thread in enumerate(thread_list):\n",
    "    df = pd.DataFrame(thread)\n",
    "    df['id'] = thread_ids[idx]\n",
    "    dfs.append(df)\n",
    "    \n",
    "df = pd.concat(dfs)"
   ]
  },
  {
   "cell_type": "markdown",
   "metadata": {},
   "source": [
    "## Clean up"
   ]
  },
  {
   "cell_type": "code",
   "execution_count": null,
   "metadata": {},
   "outputs": [],
   "source": [
    "# Uncomment to parse dates (slow)\n",
    "#df['timestamp'] = pd.to_datetime(df['timestamp'])"
   ]
  },
  {
   "cell_type": "code",
   "execution_count": null,
   "metadata": {
    "collapsed": true
   },
   "outputs": [],
   "source": [
    "# Due to Facebook bug, sometimes there is no\n",
    "# user information. Remove those rows :(\n",
    "df = df[df['user'] != '']"
   ]
  },
  {
   "cell_type": "markdown",
   "metadata": {},
   "source": [
    "## Pick a conversation"
   ]
  },
  {
   "cell_type": "code",
   "execution_count": null,
   "metadata": {
    "collapsed": true
   },
   "outputs": [],
   "source": [
    "# This requires some manual digging to find\n",
    "# the right thread id in the data. The numbers\n",
    "# represent the users involved in the thread\n",
    "THREAD_ID = '123456789@facebook.com, 0123456789@facebook.com'\n",
    "s = df[df['id'] == THREAD_ID]"
   ]
  },
  {
   "cell_type": "markdown",
   "metadata": {},
   "source": [
    "## Train model"
   ]
  },
  {
   "cell_type": "code",
   "execution_count": null,
   "metadata": {},
   "outputs": [],
   "source": [
    "# Split dataset into training and testing parts\n",
    "X_train, X_test, y_train, y_test = train_test_split(s['content'], s['user'], test_size=0.25)"
   ]
  },
  {
   "cell_type": "code",
   "execution_count": null,
   "metadata": {},
   "outputs": [],
   "source": [
    "# Create a word vector from the training data\n",
    "count_vect = CountVectorizer(token_pattern=r'(?u)\\b\\w\\w+\\b|:\\)\\)?|:D|:/|\\?')\n",
    "count_vect = CountVectorizer()\n",
    "X_train_counts = count_vect.fit_transform(X_train)"
   ]
  },
  {
   "cell_type": "code",
   "execution_count": null,
   "metadata": {},
   "outputs": [],
   "source": [
    "# Fit the ML model\n",
    "clf = MultinomialNB().fit(X_train_counts, y_train)"
   ]
  },
  {
   "cell_type": "markdown",
   "metadata": {},
   "source": [
    "## Evaluate"
   ]
  },
  {
   "cell_type": "code",
   "execution_count": null,
   "metadata": {},
   "outputs": [],
   "source": [
    "# Compare true vs predicted labels\n",
    "# Pure guessing will have accuracy 0.5\n",
    "X_test_counts = count_vect.transform(X_test)\n",
    "pred = clf.predict(X_test_counts)\n",
    "accuracy_score(y_test, pred)"
   ]
  },
  {
   "cell_type": "markdown",
   "metadata": {},
   "source": [
    "## Make new predictions!"
   ]
  },
  {
   "cell_type": "code",
   "execution_count": null,
   "metadata": {},
   "outputs": [],
   "source": [
    "# Feed the algorithm some sample texts\n",
    "docs = ['jag är trött', 'gud vad kul!', 'ska vi dricka öl i kväll?']\n",
    "\n",
    "# Create a sparse representation the texts above\n",
    "X_new_counts = count_vect.transform(docs)\n",
    "\n",
    "# Predict user based on texts\n",
    "predicted = clf.predict(X_new_counts)\n",
    "\n",
    "# Print the results\n",
    "for doc, pred in zip(docs, predicted):\n",
    "    print(doc + '\\nProbably written by: ' + pred + '\\n---')"
   ]
  },
  {
   "cell_type": "code",
   "execution_count": null,
   "metadata": {
    "collapsed": true
   },
   "outputs": [],
   "source": []
  }
 ],
 "metadata": {
  "kernelspec": {
   "display_name": "Python 3",
   "language": "python",
   "name": "python3"
  },
  "language_info": {
   "codemirror_mode": {
    "name": "ipython",
    "version": 3
   },
   "file_extension": ".py",
   "mimetype": "text/x-python",
   "name": "python",
   "nbconvert_exporter": "python",
   "pygments_lexer": "ipython3",
   "version": "3.6.1"
  }
 },
 "nbformat": 4,
 "nbformat_minor": 2
}
